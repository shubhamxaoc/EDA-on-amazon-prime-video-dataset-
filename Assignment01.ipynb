{
  "nbformat": 4,
  "nbformat_minor": 0,
  "metadata": {
    "colab": {
      "private_outputs": true,
      "provenance": [],
      "collapsed_sections": [
        "vncDsAP0Gaoa",
        "FJNUwmbgGyua",
        "w6K7xa23Elo4",
        "yQaldy8SH6Dl",
        "PH-0ReGfmX4f",
        "mDgbUHAGgjLW",
        "O_i_v8NEhb9l",
        "HhfV-JJviCcP",
        "Y3lxredqlCYt",
        "3RnN4peoiCZX",
        "x71ZqKXriCWQ",
        "7hBIi_osiCS2",
        "JlHwYmJAmNHm",
        "35m5QtbWiB9F",
        "PoPl-ycgm1ru",
        "H0kj-8xxnORC",
        "nA9Y7ga8ng1Z",
        "PBTbrJXOngz2",
        "u3PMJOP6ngxN",
        "dauF4eBmngu3",
        "bKJF3rekwFvQ",
        "MSa1f5Uengrz",
        "GF8Ens_Soomf",
        "0wOQAZs5pc--",
        "K5QZ13OEpz2H",
        "lQ7QKXXCp7Bj",
        "448CDAPjqfQr",
        "KSlN3yHqYklG",
        "t6dVpIINYklI",
        "ijmpgYnKYklI",
        "-JiQyfWJYklI",
        "EM7whBJCYoAo",
        "fge-S5ZAYoAp",
        "85gYPyotYoAp",
        "RoGjAbkUYoAp",
        "4Of9eVA-YrdM",
        "iky9q4vBYrdO",
        "F6T5p64dYrdO",
        "y-Ehk30pYrdP",
        "bamQiAODYuh1",
        "QHF8YVU7Yuh3",
        "GwzvFGzlYuh3",
        "qYpmQ266Yuh3",
        "OH-pJp9IphqM",
        "bbFf2-_FphqN",
        "_ouA3fa0phqN",
        "Seke61FWphqN",
        "PIIx-8_IphqN",
        "t27r6nlMphqO",
        "r2jJGEOYphqO",
        "b0JNsNcRphqO",
        "BZR9WyysphqO",
        "jj7wYXLtphqO",
        "eZrbJ2SmphqO",
        "rFu4xreNphqO",
        "YJ55k-q6phqO",
        "gCFgpxoyphqP",
        "OVtJsKN_phqQ",
        "lssrdh5qphqQ",
        "U2RJ9gkRphqQ",
        "1M8mcRywphqQ",
        "tgIPom80phqQ",
        "JMzcOPDDphqR",
        "x-EpHcCOp1ci",
        "X_VqEhTip1ck",
        "8zGJKyg5p1ck",
        "PVzmfK_Ep1ck",
        "n3dbpmDWp1ck",
        "ylSl6qgtp1ck",
        "ZWILFDl5p1ck",
        "M7G43BXep1ck",
        "Ag9LCva-p1cl",
        "E6MkPsBcp1cl",
        "2cELzS2fp1cl",
        "3MPXvC8up1cl",
        "NC_X3p0fY2L0",
        "UV0SzAkaZNRQ",
        "YPEH6qLeZNRQ",
        "q29F0dvdveiT",
        "EXh0U9oCveiU",
        "22aHeOlLveiV",
        "JcMwzZxoAimU",
        "8G2x9gOozGDZ",
        "gCX9965dhzqZ",
        "gIfDvo9L0UH2"
      ]
    },
    "kernelspec": {
      "name": "python3",
      "display_name": "Python 3"
    },
    "language_info": {
      "name": "python"
    }
  },
  "cells": [
    {
      "cell_type": "code",
      "source": [],
      "metadata": {
        "id": "I1apcow5dxii"
      },
      "execution_count": null,
      "outputs": []
    },
    {
      "cell_type": "markdown",
      "source": [
        "# **Project Name**    -\n",
        "\n"
      ],
      "metadata": {
        "id": "vncDsAP0Gaoa"
      }
    },
    {
      "cell_type": "markdown",
      "source": [
        "##### **Project Type**    - EDA/Regression/Classification/Unsupervised\n",
        "##### **Contribution**    - Individual\n",
        "##### **Author - Shubham Kumar**\n",
        "\n"
      ],
      "metadata": {
        "id": "beRrZCGUAJYm"
      }
    },
    {
      "cell_type": "markdown",
      "source": [
        "# **Project Summary -**"
      ],
      "metadata": {
        "id": "FJNUwmbgGyua"
      }
    },
    {
      "cell_type": "markdown",
      "source": [
        "# 📄 Project Summary: Amazon Prime Video Content Analysis\n",
        "\n",
        "## 🎯 Objective\n",
        "This project analyzes the content library of **Amazon Prime Video** in the United States using two datasets—one with over 9,000 titles (`titles.csv`) and another with over 124,000 cast and crew entries (`credits.csv`). The goal is to extract insights related to **content diversity**, **regional availability**, **evolving trends**, and **audience engagement** using IMDb and TMDB metrics.\n",
        "\n",
        "---\n",
        "\n",
        "## 🧾 Dataset Description\n",
        "- **titles.csv**: Metadata about each show/movie such as title, release year, runtime, genres, production countries, IMDb scores, TMDB popularity, etc.\n",
        "- **credits.csv**: Information on actors and directors including their names, roles, and character names.\n",
        "\n",
        "---\n",
        "\n",
        "## 🔍 Analysis Areas\n",
        "1. **Content Diversity** – Most popular genres and the distribution of Movies vs TV Shows  \n",
        "2. **Regional Availability** – Top countries contributing to content  \n",
        "3. **Trends Over Time** – How content production has evolved over the years  \n",
        "4. **IMDb Ratings & Popularity** – Top-rated and most popular titles  \n",
        "5. **Talent Insights** – Most frequent actors and directors on the platform\n",
        "\n",
        "---\n",
        "\n",
        "## 📊 Key Insights\n",
        "- 🎬 **Top Genres**: *Drama*, *Comedy*, and *Action* dominate the content library  \n",
        "- 📺 **Content Type**: Movies are more frequent, but TV shows have increased since 2015  \n",
        "- 🌍 **Production Countries**: The USA, UK, and India are top contributors  \n",
        "- ⭐ **Ratings**: Most titles score between 6.0–7.5 on IMDb, with several scoring above 8.5  \n",
        "- 🧑‍🎬 **Frequent Talent**: A handful of directors and actors repeatedly feature across titles\n",
        "\n",
        "---\n",
        "\n",
        "## 🧰 Tools & Technologies Used\n",
        "- **Pandas** – Data cleaning and manipulation  \n",
        "- **NumPy** – Numerical operations  \n",
        "- **Matplotlib & Seaborn** – Visualizations  \n",
        "- **Python** – For scripting and logic implementation\n",
        "\n",
        "---\n",
        "\n",
        "## 🧠 Business Impact\n",
        "- 🎯 Helps understand which genres and countries to invest in  \n",
        "- 📈 Aids in planning future content strategies based on popularity and ratings  \n",
        "- 🤝 Supports talent acquisition by identifying recurring actors and directors  \n",
        "- 📊 Provides data-driven insights to improve user engagement and subscription growth\n",
        "\n"
      ],
      "metadata": {
        "id": "F6v_1wHtG2nS"
      }
    },
    {
      "cell_type": "markdown",
      "source": [
        "# **GitHub Link -**"
      ],
      "metadata": {
        "id": "w6K7xa23Elo4"
      }
    },
    {
      "cell_type": "markdown",
      "source": [
        "Provide your GitHub Link here."
      ],
      "metadata": {
        "id": "h1o69JH3Eqqn"
      }
    },
    {
      "cell_type": "markdown",
      "source": [
        "# **Problem Statement**\n"
      ],
      "metadata": {
        "id": "yQaldy8SH6Dl"
      }
    },
    {
      "cell_type": "code",
      "source": [
        "from google.colab import drive\n",
        "drive.mount('/content/drive')"
      ],
      "metadata": {
        "id": "Bb6N6Je6KuUj"
      },
      "execution_count": null,
      "outputs": []
    },
    {
      "cell_type": "markdown",
      "source": [
        "**Write Problem Statement Here.**\n",
        "## 🧩 Problem Statement\n",
        "\n",
        "With the rapidly growing content library on Amazon Prime Video, understanding the **diversity, distribution, and quality of its offerings** has become crucial for content strategists, business analysts, and entertainment industry stakeholders.\n",
        "\n",
        "This project aims to analyze a comprehensive dataset of Amazon Prime Video titles available in the United States to uncover **data-driven insights** on:\n",
        "\n",
        "- 📚 **Content Diversity**: What are the most common genres and show types (Movies vs TV Shows)?\n",
        "- 🌍 **Regional Availability**: Which countries contribute most to Amazon Prime’s content library?\n",
        "- 📈 **Trends Over Time**: How has the quantity and nature of content changed over the years?\n",
        "- ⭐ **IMDb Ratings & Popularity**: What are the highest-rated or most popular shows and movies?\n",
        "- 🎬 **Talent Insights**: Who are the most featured actors and directors?\n",
        "\n",
        "By answering these questions, this analysis will help drive **content acquisition decisions**, **regional investment strategies**, and **improve audience engagement** through data-backed content recommendations.\n"
      ],
      "metadata": {
        "id": "DpeJGUA3kjGy"
      }
    },
    {
      "cell_type": "markdown",
      "source": [
        "#### **Define Your Business Objective?**"
      ],
      "metadata": {
        "id": "PH-0ReGfmX4f"
      }
    },
    {
      "cell_type": "markdown",
      "source": [
        "## 🎯 Business Objective\n",
        "\n",
        "In the competitive landscape of digital streaming, platforms like **Amazon Prime Video** must consistently evaluate and adapt their content strategies to attract and retain subscribers. With an ever-growing library of movies and TV shows, it becomes essential to analyze:\n",
        "\n",
        "- What types of content resonate most with audiences?\n",
        "- Which regions contribute the most to the content pool?\n",
        "- How has content evolved over time in terms of quantity and quality?\n",
        "\n",
        "The primary business objective of this project is to leverage data from Amazon Prime's content catalog to uncover **key patterns, trends, and insights** that can help:\n",
        "\n",
        "- 📈 Drive smarter **content acquisition** decisions  \n",
        "- 🎯 Identify high-performing **genres and regions**  \n",
        "- 🔍 Evaluate **audience preferences** using IMDb and TMDB metrics  \n",
        "- 💡 Inform **marketing, talent selection, and regional expansion** strategies\n",
        "\n",
        "These insights will ultimately support Amazon Prime Video in enhancing **user engagement**, optimizing **content investments**, and maintaining a competitive edge in the streaming industry.\n"
      ],
      "metadata": {
        "id": "PhDvGCAqmjP1"
      }
    },
    {
      "cell_type": "markdown",
      "source": [
        "# **General Guidelines** : -  "
      ],
      "metadata": {
        "id": "mDgbUHAGgjLW"
      }
    },
    {
      "cell_type": "markdown",
      "source": [
        "1.   Well-structured, formatted, and commented code is required.\n",
        "2.   Exception Handling, Production Grade Code & Deployment Ready Code will be a plus. Those students will be awarded some additional credits.\n",
        "     \n",
        "     The additional credits will have advantages over other students during Star Student selection.\n",
        "       \n",
        "             [ Note: - Deployment Ready Code is defined as, the whole .ipynb notebook should be executable in one go\n",
        "                       without a single error logged. ]\n",
        "\n",
        "3.   Each and every logic should have proper comments.\n",
        "4. You may add as many number of charts you want. Make Sure for each and every chart the following format should be answered.\n",
        "        \n",
        "\n",
        "```\n",
        "# Chart visualization code\n",
        "```\n",
        "            \n",
        "\n",
        "*   Why did you pick the specific chart?\n",
        "*   What is/are the insight(s) found from the chart?\n",
        "* Will the gained insights help creating a positive business impact?\n",
        "Are there any insights that lead to negative growth? Justify with specific reason.\n",
        "\n",
        "5. You have to create at least 20 logical & meaningful charts having important insights.\n",
        "\n",
        "\n",
        "[ Hints : - Do the Vizualization in  a structured way while following \"UBM\" Rule.\n",
        "\n",
        "U - Univariate Analysis,\n",
        "\n",
        "B - Bivariate Analysis (Numerical - Categorical, Numerical - Numerical, Categorical - Categorical)\n",
        "\n",
        "M - Multivariate Analysis\n",
        " ]\n",
        "\n",
        "\n",
        "\n"
      ],
      "metadata": {
        "id": "ZrxVaUj-hHfC"
      }
    },
    {
      "cell_type": "markdown",
      "source": [
        "# ***Let's Begin !***"
      ],
      "metadata": {
        "id": "O_i_v8NEhb9l"
      }
    },
    {
      "cell_type": "markdown",
      "source": [
        "## ***1. Know Your Data***"
      ],
      "metadata": {
        "id": "HhfV-JJviCcP"
      }
    },
    {
      "cell_type": "markdown",
      "source": [
        "### Import Libraries"
      ],
      "metadata": {
        "id": "Y3lxredqlCYt"
      }
    },
    {
      "cell_type": "code",
      "source": [
        "# Import Libraries\n",
        "import numpy as np\n",
        "import pandas as pd\n",
        "import matplotlib.pyplot as plt\n",
        "import seaborn as sns\n"
      ],
      "metadata": {
        "id": "M8Vqi-pPk-HR"
      },
      "execution_count": null,
      "outputs": []
    },
    {
      "cell_type": "markdown",
      "source": [
        "### Dataset Loading"
      ],
      "metadata": {
        "id": "3RnN4peoiCZX"
      }
    },
    {
      "cell_type": "code",
      "source": [
        "# Load Dataset\n",
        "data_credits = pd.read_csv('credits.csv')\n",
        "data_titles = pd.read_csv('titles.csv')"
      ],
      "metadata": {
        "id": "4CkvbW_SlZ_R"
      },
      "execution_count": null,
      "outputs": []
    },
    {
      "cell_type": "markdown",
      "source": [
        "### Dataset First View"
      ],
      "metadata": {
        "id": "x71ZqKXriCWQ"
      }
    },
    {
      "cell_type": "code",
      "source": [
        "# Dataset First Look\n",
        "data_titles.head()"
      ],
      "metadata": {
        "id": "LWNFOSvLl09H"
      },
      "execution_count": null,
      "outputs": []
    },
    {
      "cell_type": "markdown",
      "source": [
        "### Dataset Rows & Columns count"
      ],
      "metadata": {
        "id": "7hBIi_osiCS2"
      }
    },
    {
      "cell_type": "code",
      "source": [
        "# Dataset Rows & Columns count\n",
        "print(data_titles.shape)\n",
        "print(data_credits.shape)"
      ],
      "metadata": {
        "id": "Kllu7SJgmLij"
      },
      "execution_count": null,
      "outputs": []
    },
    {
      "cell_type": "markdown",
      "source": [
        "### Dataset Information"
      ],
      "metadata": {
        "id": "JlHwYmJAmNHm"
      }
    },
    {
      "cell_type": "code",
      "source": [
        "# Dataset Info\n",
        "data_titles.info()"
      ],
      "metadata": {
        "id": "e9hRXRi6meOf"
      },
      "execution_count": null,
      "outputs": []
    },
    {
      "cell_type": "code",
      "source": [
        "data_credits.info()"
      ],
      "metadata": {
        "id": "aq36polhRJRU"
      },
      "execution_count": null,
      "outputs": []
    },
    {
      "cell_type": "markdown",
      "source": [
        "#### Duplicate Values"
      ],
      "metadata": {
        "id": "35m5QtbWiB9F"
      }
    },
    {
      "cell_type": "code",
      "source": [
        "# Dataset Duplicate Value Count\n",
        "print(data_titles.duplicated().sum())\n",
        "print(data_credits.duplicated().sum())"
      ],
      "metadata": {
        "id": "1sLdpKYkmox0"
      },
      "execution_count": null,
      "outputs": []
    },
    {
      "cell_type": "markdown",
      "source": [
        "#### Missing Values/Null Values"
      ],
      "metadata": {
        "id": "PoPl-ycgm1ru"
      }
    },
    {
      "cell_type": "code",
      "source": [
        "# Missing Values/Null Values Count\n",
        "print(data_titles.isnull().sum())\n",
        "print(data_credits.isnull().sum())"
      ],
      "metadata": {
        "id": "GgHWkxvamxVg"
      },
      "execution_count": null,
      "outputs": []
    },
    {
      "cell_type": "code",
      "source": [
        "# Visualizing the missing values\n",
        "plt.figure(figsize=(12,6))\n",
        "sns.heatmap(data_titles.isnull(), cbar=False, cmap='viridis')\n",
        "plt.title(\"Missing Values of Titles Heatmap\")\n",
        "plt.figure(figsize=(12,6))\n",
        "sns.heatmap(data_credits.isnull(), cbar=False, cmap='viridis')\n",
        "plt.title(\"Missing Values of Credits Heatmap\")\n",
        "plt.show()"
      ],
      "metadata": {
        "id": "3q5wnI3om9sJ"
      },
      "execution_count": null,
      "outputs": []
    },
    {
      "cell_type": "markdown",
      "source": [
        "### What did you know about your dataset?"
      ],
      "metadata": {
        "id": "H0kj-8xxnORC"
      }
    },
    {
      "cell_type": "markdown",
      "source": [
        "## 🔍 Understanding Missing Values in the Dataset\n",
        "\n",
        "Analyzing the missing values in both `titles.csv` and `credits.csv` gives us key insights into the **quality and limitations** of the data. Here's what we observed:\n",
        "\n",
        "---\n",
        "\n",
        "### 📁 Titles Dataset\n",
        "\n",
        "| Column                 | Missing Count | Interpretation |\n",
        "|------------------------|----------------|----------------|\n",
        "| `description`          | 119            | A few titles lack a plot summary or synopsis, likely newer or less-known content. |\n",
        "| `age_certification`    | 6487           | Over **70%** of titles are missing age ratings, which may indicate older content, international titles, or gaps in content moderation metadata. |\n",
        "| `seasons`              | 8514           | This is expected since the `seasons` field is only relevant for **TV Shows**. The high number reflects the dominance of **movies** in the dataset. |\n",
        "| `imdb_id`              | 667            | Some titles aren't linked to IMDb, possibly due to regional exclusives or metadata gaps. |\n",
        "| `imdb_score` / `votes` | ~1000+         | IMDb rating data is missing for many titles. These could be new releases or lesser-known content with minimal user engagement. |\n",
        "| `tmdb_score`           | 2082           | TMDB metadata is missing for over **20%** of titles, indicating limited popularity or recent additions. |\n",
        "| `tmdb_popularity`      | 547            | Slightly better coverage than TMDB score; useful for identifying trending titles. |\n",
        "| `genres`, `runtime`, `release_year`, `title`, `id`, `type`, `production_countries` | ✅ No missing values | These are essential fields and appear to be well-maintained. |\n",
        "\n",
        "---\n",
        "\n",
        "### 📁 Credits Dataset\n",
        "\n",
        "| Column         | Missing Count | Interpretation |\n",
        "|----------------|----------------|----------------|\n",
        "| `character`    | 16,287         | Many entries don’t have a `character` name. This is common in large datasets where not all actors are assigned a specific role name, especially for **minor or background characters**. |\n",
        "| `person_id`, `id`, `name`, `role` | ✅ No missing values | Actor/director metadata is clean and consistent. These fields can be used reliably for analysis. |\n",
        "\n",
        "---\n",
        "\n",
        "### 💡 Key Takeaways\n",
        "\n",
        "- The dataset is **generally clean**, especially for structural metadata like title names, IDs, types, and release years.\n",
        "- **Rating and popularity data** has notable gaps, so trends based on IMDb or TMDB may not represent the entire catalog.\n",
        "- **Age certification and character name** columns have significant missingness, which might limit certain types of content filtering or detailed cast analysis.\n",
        "- **TV show-specific fields** like `seasons` naturally have many missing values due to the prevalence of movies.\n",
        "\n",
        "We will account for these gaps during analysis by:\n",
        "- Ignoring or filling missing values where appropriate\n",
        "- Filtering analyses to rows with complete data (e.g., for IMDb trend analysis)\n",
        "- Avoiding misinterpretation of fields like `seasons` for movie-type titles\n"
      ],
      "metadata": {
        "id": "gfoNAAC-nUe_"
      }
    },
    {
      "cell_type": "markdown",
      "source": [
        "## ***2. Understanding Your Variables***"
      ],
      "metadata": {
        "id": "nA9Y7ga8ng1Z"
      }
    },
    {
      "cell_type": "code",
      "source": [
        "# Dataset Columns\n",
        "print(data_titles.columns)\n",
        "print(data_credits.columns)"
      ],
      "metadata": {
        "id": "j7xfkqrt5Ag5"
      },
      "execution_count": null,
      "outputs": []
    },
    {
      "cell_type": "code",
      "source": [
        "# Dataset Describe\n",
        "print(data_titles.describe())\n"
      ],
      "metadata": {
        "id": "DnOaZdaE5Q5t"
      },
      "execution_count": null,
      "outputs": []
    },
    {
      "cell_type": "code",
      "source": [
        "print(data_credits.describe())"
      ],
      "metadata": {
        "id": "uJvggLjNRAdg"
      },
      "execution_count": null,
      "outputs": []
    },
    {
      "cell_type": "markdown",
      "source": [
        "### Variables Description"
      ],
      "metadata": {
        "id": "PBTbrJXOngz2"
      }
    },
    {
      "cell_type": "markdown",
      "source": [
        "## 🧾 Variable Description: Titles Dataset\n",
        "\n",
        "The `titles.csv` file contains metadata for 9,871 unique titles (movies and TV shows) available on Amazon Prime Video. It consists of 15 columns:\n",
        "\n",
        "| Column                  | Data Type | Description |\n",
        "|-------------------------|-----------|-------------|\n",
        "| **id**                  | `object`  | Unique identifier for each title on JustWatch. |\n",
        "| **title**               | `object`  | Name of the movie or TV show. |\n",
        "| **type**                | `object`  | Indicates whether the content is a `MOVIE` or `SHOW`. |\n",
        "| **description**         | `object`  | Brief summary or synopsis of the title. |\n",
        "| **release_year**        | `int64`   | Year the content was released. |\n",
        "| **age_certification**   | `object`  | Age rating of the content (e.g., PG-13, R). Missing for many titles. |\n",
        "| **runtime**             | `int64`   | Duration of the title in minutes. For shows, this is per episode. |\n",
        "| **genres**              | `object`  | List of genres (as a stringified list, e.g., `[\"Drama\", \"Action\"]`). |\n",
        "| **production_countries**| `object`  | List of countries where the title was produced. |\n",
        "| **seasons**             | `float64` | Number of seasons (only applicable to TV shows). Missing for movies. |\n",
        "| **imdb_id**             | `object`  | External IMDb identifier for the title. |\n",
        "| **imdb_score**          | `float64` | IMDb rating (1 to 10 scale). |\n",
        "| **imdb_votes**          | `float64` | Number of votes received on IMDb. |\n",
        "| **tmdb_popularity**     | `float64` | Popularity metric from The Movie Database (TMDB). |\n",
        "| **tmdb_score**          | `float64` | TMDB rating (1 to 10 scale). |\n",
        "\n",
        "---\n",
        "\n",
        "### 📌 Notes:\n",
        "- Most essential fields (`title`, `type`, `release_year`, `genres`, `runtime`) are complete and clean.\n",
        "- `seasons` is relevant only for TV shows, which explains its high number of missing values.\n",
        "- Rating-related fields (`imdb_score`, `tmdb_score`) are partially missing, so popularity analysis should account for that.\n",
        "- `genres` and `production_countries` may require transformation (e.g., using `ast.literal_eval`) for analysis.\n",
        "\n"
      ],
      "metadata": {
        "id": "HxQUiKlkRdcw"
      }
    },
    {
      "cell_type": "markdown",
      "source": [
        "## 🧾 Variable Description: Credits Dataset\n",
        "\n",
        "The `credits.csv` file contains cast and crew information for titles available on Amazon Prime Video. It includes 124,235 records with 5 columns:\n",
        "\n",
        "| Column      | Data Type | Description |\n",
        "|-------------|-----------|-------------|\n",
        "| **person_id** | `int64`  | A unique identifier for each person (actor or director) on JustWatch. |\n",
        "| **id**        | `object` | Title ID that links each person to a specific show or movie from the `titles.csv` dataset. |\n",
        "| **name**      | `object` | Full name of the individual (actor or director). |\n",
        "| **character** | `object` | The name of the character portrayed (for actors). This field has ~13% missing values, typically for directors or minor roles. |\n",
        "| **role**      | `object` | The professional role of the person in the title — either `ACTOR` or `DIRECTOR`. |\n",
        "\n",
        "---\n",
        "\n",
        "### 📌 Notes:\n",
        "- All columns except `character` are complete with no missing values.\n",
        "- The dataset allows linking titles with the people involved for **actor/director analysis**, identifying **top contributors**, and studying **collaborative patterns**.\n",
        "\n",
        "Answer Here"
      ],
      "metadata": {
        "id": "aJV4KIxSnxay"
      }
    },
    {
      "cell_type": "markdown",
      "source": [
        "### Check Unique Values for each variable."
      ],
      "metadata": {
        "id": "u3PMJOP6ngxN"
      }
    },
    {
      "cell_type": "code",
      "source": [
        "# Check Unique Values for each variable.\n",
        "print(data_titles.nunique())\n",
        "print(data_credits.nunique())"
      ],
      "metadata": {
        "id": "zms12Yq5n-jE"
      },
      "execution_count": null,
      "outputs": []
    },
    {
      "cell_type": "markdown",
      "source": [
        "## 3. ***Data Wrangling***"
      ],
      "metadata": {
        "id": "dauF4eBmngu3"
      }
    },
    {
      "cell_type": "markdown",
      "source": [
        "### Data Wrangling Code"
      ],
      "metadata": {
        "id": "bKJF3rekwFvQ"
      }
    },
    {
      "cell_type": "code",
      "source": [
        "\n",
        "import ast\n",
        "\n",
        "# 📁 Load the Data\n",
        "titles = data_titles\n",
        "credits = data_credits\n",
        "\n",
        "titles = titles.copy()\n",
        "\n",
        "# Handle missing values\n",
        "titles['description'] = titles['description'].fillna('No description available')\n",
        "titles['age_certification'] = titles['age_certification'].fillna('Unknown')\n",
        "titles['imdb_id'] = titles['imdb_id'].fillna('Unknown')\n",
        "\n",
        "# Drop or impute rating fields (based on your analysis context)\n",
        "titles['imdb_score'] = titles['imdb_score'].fillna(titles['imdb_score'].mean())\n",
        "titles['imdb_votes'] = titles['imdb_votes'].fillna(0)\n",
        "titles['tmdb_popularity'] = titles['tmdb_popularity'].fillna(0)\n",
        "titles['tmdb_score'] = titles['tmdb_score'].fillna(titles['tmdb_score'].mean())\n",
        "\n",
        "# Handle 'seasons' column\n",
        "titles['seasons'] = titles['seasons'].fillna(0).astype('int')\n",
        "\n",
        "# Convert stringified lists to actual lists\n",
        "titles['genres'] = titles['genres'].apply(lambda x: ast.literal_eval(x) if pd.notnull(x) else [])\n",
        "titles['production_countries'] = titles['production_countries'].apply(lambda x: ast.literal_eval(x) if pd.notnull(x) else [])\n",
        "\n",
        "#Normalize and clean lists\n",
        "titles['genres'] = titles['genres'].apply(lambda x: [g.strip().title() for g in x])\n",
        "titles['production_countries'] = titles['production_countries'].apply(lambda x: [c.strip().upper() for c in x])\n",
        "\n",
        "# Feature engineering\n",
        "titles['decade'] = (titles['release_year'] // 10) * 10\n",
        "titles['is_show'] = titles['type'].str.upper() == 'SHOW'\n",
        "\n",
        "#Convert list columns to strings temporarily for deduplication\n",
        "titles['genres_str'] = titles['genres'].astype(str)\n",
        "titles['production_countries_str'] = titles['production_countries'].astype(str)\n",
        "\n",
        "#Drop duplicates safely\n",
        "titles.drop_duplicates(subset=['id', 'title', 'type', 'release_year', 'genres_str'], inplace=True)\n",
        "\n",
        "# Drop temp string columns\n",
        "titles.drop(columns=['genres_str', 'production_countries_str'], inplace=True)\n",
        "\n",
        "#Explode for analysis-ready genres/countries\n",
        "titles_genres_exploded = titles.explode('genres')\n",
        "titles_countries_exploded = titles.explode('production_countries')\n",
        "\n",
        "\n",
        "#Create a fresh copy\n",
        "credits = credits.copy()\n",
        "\n",
        "# Fill missing 'character' with placeholder\n",
        "credits['character'] = credits['character'].fillna('Unknown')\n",
        "\n",
        "# Drop duplicates\n",
        "credits.drop_duplicates(inplace=True)\n",
        "\n",
        "# Clean name column\n",
        "credits['name'] = credits['name'].str.strip()\n",
        "\n",
        "merged = pd.merge(credits, titles, on='id', how='left')\n",
        "\n",
        "print(\"Cleaned Titles shape:\", titles.shape)\n",
        "print(\"Cleaned Credits shape:\", credits.shape)\n",
        "print(\"Merged Dataset shape:\", merged.shape)\n"
      ],
      "metadata": {
        "id": "wk-9a2fpoLcV",
        "collapsed": true
      },
      "execution_count": null,
      "outputs": []
    },
    {
      "cell_type": "code",
      "source": [
        "merged.head(5)"
      ],
      "metadata": {
        "id": "1KwFCWq-ZTEm"
      },
      "execution_count": null,
      "outputs": []
    },
    {
      "cell_type": "code",
      "source": [],
      "metadata": {
        "id": "tol_6qjjcToF"
      },
      "execution_count": null,
      "outputs": []
    },
    {
      "cell_type": "markdown",
      "source": [
        "### What all manipulations have you done and insights you found?"
      ],
      "metadata": {
        "id": "MSa1f5Uengrz"
      }
    },
    {
      "cell_type": "markdown",
      "source": [
        "we performed comprehensive cleaning and transformation on both titles.csv and credits.csv to prepare the Amazon Prime dataset for analysis. For the titles dataset, we addressed missing values by filling description and age_certification with meaningful placeholders, and imputed numerical fields like imdb_score, imdb_votes, tmdb_score, and tmdb_popularity using mean or zero where appropriate. The seasons column, relevant only for shows, was filled with 0 and converted to integer for uniformity. Stringified list fields such as genres and production_countries were converted to Python lists, cleaned for casing and whitespace, and later exploded to facilitate genre-wise and country-wise analysis.\n",
        "\n",
        "Feature engineering included creating a decade column to observe content trends over time and a boolean is_show column to distinguish TV shows from movies. To safely drop duplicates without encountering type errors, list columns were temporarily converted to strings. The credits dataset was also cleaned by filling missing character entries with \"Unknown\" and stripping whitespace from names. Duplicates were removed from both datasets to maintain data integrity.\n",
        "\n",
        "Finally, we merged the two datasets on the id field to enable combined analysis of content and cast. These manipulations allow for rich analysis such as identifying top genres, dominant content-producing countries, trends in content production across decades, IMDb and TMDB rating distributions, and most frequent actors or directors. Key insights include a concentration of releases after 2000, with movies dominating over TV shows; common genres like Drama and Comedy leading the platform; and a skewed popularity distribution where few titles account for very high IMDb votes or TMDB scores. The dataset is now fully structured and analysis-ready for generating meaningful business insights.\n"
      ],
      "metadata": {
        "id": "LbyXE7I1olp8"
      }
    },
    {
      "cell_type": "markdown",
      "source": [
        "## ***4. Data Vizualization, Storytelling & Experimenting with charts : Understand the relationships between variables***"
      ],
      "metadata": {
        "id": "GF8Ens_Soomf"
      }
    },
    {
      "cell_type": "markdown",
      "source": [
        "#### Chart - 1"
      ],
      "metadata": {
        "id": "0wOQAZs5pc--"
      }
    },
    {
      "cell_type": "code",
      "source": [
        "# Chart - 1 visualization code\n",
        "top_genres = titles.explode('genres')['genres'].value_counts().head(10)\n",
        "\n",
        "plt.figure(figsize=(10, 6))\n",
        "sns.barplot(y=top_genres.index, x=top_genres.values, palette='viridis')\n",
        "plt.title('Top 10 Most Common Genres on Amazon Prime')\n",
        "plt.xlabel('Number of Titles')\n",
        "plt.ylabel('Genre')\n",
        "plt.show()"
      ],
      "metadata": {
        "id": "7v_ESjsspbW7"
      },
      "execution_count": null,
      "outputs": []
    },
    {
      "cell_type": "markdown",
      "source": [
        "##### 1. Why did you pick the specific chart?"
      ],
      "metadata": {
        "id": "K5QZ13OEpz2H"
      }
    },
    {
      "cell_type": "markdown",
      "source": [
        "Bar charts are ideal for categorical comparisons. This helps us visualize which genres dominate the platform."
      ],
      "metadata": {
        "id": "XESiWehPqBRc"
      }
    },
    {
      "cell_type": "markdown",
      "source": [
        "##### 2. What is/are the insight(s) found from the chart?"
      ],
      "metadata": {
        "id": "lQ7QKXXCp7Bj"
      }
    },
    {
      "cell_type": "markdown",
      "source": [
        "Genres like Drama, Comedy, and Action are most prevalent, showing Amazon's focus on high-engagement categories."
      ],
      "metadata": {
        "id": "C_j1G7yiqdRP"
      }
    },
    {
      "cell_type": "markdown",
      "source": [
        "##### 3. Will the gained insights help creating a positive business impact?\n",
        "Are there any insights that lead to negative growth? Justify with specific reason."
      ],
      "metadata": {
        "id": "448CDAPjqfQr"
      }
    },
    {
      "cell_type": "markdown",
      "source": [
        "Understanding top genres helps the content team invest in categories with proven success, and improve viewer retention by promoting similar shows."
      ],
      "metadata": {
        "id": "3cspy4FjqxJW"
      }
    },
    {
      "cell_type": "markdown",
      "source": [
        "#### Chart - 2"
      ],
      "metadata": {
        "id": "KSlN3yHqYklG"
      }
    },
    {
      "cell_type": "code",
      "source": [
        "# Chart - 2 visualization code\n",
        "yearly_counts = titles['release_year'].value_counts().sort_index()\n",
        "\n",
        "plt.figure(figsize=(10, 5))\n",
        "sns.lineplot(x=yearly_counts.index, y=yearly_counts.values, marker='o')\n",
        "plt.title('Number of Releases Per Year')\n",
        "plt.xlabel('Year')\n",
        "plt.ylabel('Number of Titles Released')\n",
        "plt.grid(True)\n",
        "plt.show()"
      ],
      "metadata": {
        "id": "R4YgtaqtYklH"
      },
      "execution_count": null,
      "outputs": []
    },
    {
      "cell_type": "markdown",
      "source": [
        "##### 1. Why did you pick the specific chart?"
      ],
      "metadata": {
        "id": "t6dVpIINYklI"
      }
    },
    {
      "cell_type": "markdown",
      "source": [
        "Line charts are best for time-based trends. I used it to analyze content growth over time.\n"
      ],
      "metadata": {
        "id": "5aaW0BYyYklI"
      }
    },
    {
      "cell_type": "markdown",
      "source": [
        "##### 2. What is/are the insight(s) found from the chart?"
      ],
      "metadata": {
        "id": "ijmpgYnKYklI"
      }
    },
    {
      "cell_type": "markdown",
      "source": [
        "There’s a steady growth in content additions post-2010, peaking around 2020 — indicating increased platform investment."
      ],
      "metadata": {
        "id": "PSx9atu2YklI"
      }
    },
    {
      "cell_type": "markdown",
      "source": [
        "##### 3. Will the gained insights help creating a positive business impact?\n",
        "Are there any insights that lead to negative growth? Justify with specific reason."
      ],
      "metadata": {
        "id": "-JiQyfWJYklI"
      }
    },
    {
      "cell_type": "markdown",
      "source": [
        "This validates expansion strategies and highlights years of high engagement — useful for modeling content release schedules.\n",
        "Answer Here"
      ],
      "metadata": {
        "id": "BcBbebzrYklV"
      }
    },
    {
      "cell_type": "markdown",
      "source": [
        "#### Chart - 3"
      ],
      "metadata": {
        "id": "EM7whBJCYoAo"
      }
    },
    {
      "cell_type": "code",
      "source": [
        "# Chart - 3 visualization code\n",
        "plt.figure(figsize=(8, 5))\n",
        "sns.boxplot(x='type', y='imdb_score', data=titles)\n",
        "plt.title('Distribution of IMDb Scores by Content Type')\n",
        "plt.xlabel('Content Type')\n",
        "plt.ylabel('IMDb Score')\n",
        "plt.show()\n"
      ],
      "metadata": {
        "id": "t6GMdE67YoAp"
      },
      "execution_count": null,
      "outputs": []
    },
    {
      "cell_type": "markdown",
      "source": [
        "##### 1. Why did you pick the specific chart?"
      ],
      "metadata": {
        "id": "fge-S5ZAYoAp"
      }
    },
    {
      "cell_type": "markdown",
      "source": [
        "Boxplots show the distribution, median, and outliers — useful for comparing quality perception across content types"
      ],
      "metadata": {
        "id": "5dBItgRVYoAp"
      }
    },
    {
      "cell_type": "markdown",
      "source": [
        "##### 2. What is/are the insight(s) found from the chart?"
      ],
      "metadata": {
        "id": "85gYPyotYoAp"
      }
    },
    {
      "cell_type": "markdown",
      "source": [
        "TV Shows have a slightly wider score distribution, but both content types mostly center between 5.5–7.5 IMDb."
      ],
      "metadata": {
        "id": "4jstXR6OYoAp"
      }
    },
    {
      "cell_type": "markdown",
      "source": [
        "##### 3. Will the gained insights help creating a positive business impact?\n",
        "Are there any insights that lead to negative growth? Justify with specific reason."
      ],
      "metadata": {
        "id": "RoGjAbkUYoAp"
      }
    },
    {
      "cell_type": "markdown",
      "source": [
        "Insights help in optimizing recommendation algorithms or investing more in content types that receive higher audience ratings."
      ],
      "metadata": {
        "id": "zfJ8IqMcYoAp"
      }
    },
    {
      "cell_type": "markdown",
      "source": [
        "#### Chart - 4"
      ],
      "metadata": {
        "id": "4Of9eVA-YrdM"
      }
    },
    {
      "cell_type": "code",
      "source": [
        "# Chart - 4 visualization code\n",
        "plt.figure(figsize=(10, 6))\n",
        "sns.scatterplot(x='imdb_score', y='tmdb_popularity', data=titles, alpha=0.5)\n",
        "plt.title('TMDB Popularity vs IMDb Score')\n",
        "plt.xlabel('IMDb Score')\n",
        "plt.ylabel('TMDB Popularity')\n",
        "plt.grid(True)\n",
        "plt.show()"
      ],
      "metadata": {
        "id": "irlUoxc8YrdO"
      },
      "execution_count": null,
      "outputs": []
    },
    {
      "cell_type": "markdown",
      "source": [
        "##### 1. Why did you pick the specific chart?"
      ],
      "metadata": {
        "id": "iky9q4vBYrdO"
      }
    },
    {
      "cell_type": "markdown",
      "source": [
        "Scatter plots help observe relationships between two continuous variables — here, audience rating vs platform popularity."
      ],
      "metadata": {
        "id": "aJRCwT6DYrdO"
      }
    },
    {
      "cell_type": "markdown",
      "source": [
        "##### 2. What is/are the insight(s) found from the chart?"
      ],
      "metadata": {
        "id": "F6T5p64dYrdO"
      }
    },
    {
      "cell_type": "markdown",
      "source": [
        "Many high-popularity titles cluster between IMDb scores 6.0–8.0. A few low-rated titles also show high TMDB popularity."
      ],
      "metadata": {
        "id": "Xx8WAJvtYrdO"
      }
    },
    {
      "cell_type": "markdown",
      "source": [
        "##### 3. Will the gained insights help creating a positive business impact?\n",
        "Are there any insights that lead to negative growth? Justify with specific reason."
      ],
      "metadata": {
        "id": "y-Ehk30pYrdP"
      }
    },
    {
      "cell_type": "markdown",
      "source": [
        "Helps identify “hidden gems” or poorly-rated yet popular content that could be retargeted or repackaged for better engagement."
      ],
      "metadata": {
        "id": "jLNxxz7MYrdP"
      }
    },
    {
      "cell_type": "markdown",
      "source": [
        "#### Chart - 5"
      ],
      "metadata": {
        "id": "bamQiAODYuh1"
      }
    },
    {
      "cell_type": "code",
      "source": [
        "# Chart - 5 visualization code\n",
        "type_counts = titles['type'].value_counts()\n",
        "\n",
        "plt.figure(figsize=(6, 6))\n",
        "plt.pie(type_counts, labels=type_counts.index, autopct='%1.1f%%', startangle=140, colors=sns.color_palette('pastel'))\n",
        "plt.title('Content Distribution: Movies vs TV Shows')\n",
        "plt.axis('equal')\n",
        "plt.show()"
      ],
      "metadata": {
        "id": "TIJwrbroYuh3"
      },
      "execution_count": null,
      "outputs": []
    },
    {
      "cell_type": "markdown",
      "source": [
        "##### 1. Why did you pick the specific chart?"
      ],
      "metadata": {
        "id": "QHF8YVU7Yuh3"
      }
    },
    {
      "cell_type": "markdown",
      "source": [
        "Pie charts quickly show proportion — here we compare the platform's content balance."
      ],
      "metadata": {
        "id": "dcxuIMRPYuh3"
      }
    },
    {
      "cell_type": "markdown",
      "source": [
        "##### 2. What is/are the insight(s) found from the chart?"
      ],
      "metadata": {
        "id": "GwzvFGzlYuh3"
      }
    },
    {
      "cell_type": "markdown",
      "source": [
        "Roughly 85% of the content is movies, highlighting Amazon Prime’s bias toward movie offerings over shows."
      ],
      "metadata": {
        "id": "uyqkiB8YYuh3"
      }
    },
    {
      "cell_type": "markdown",
      "source": [
        "##### 3. Will the gained insights help creating a positive business impact?\n",
        "Are there any insights that lead to negative growth? Justify with specific reason."
      ],
      "metadata": {
        "id": "qYpmQ266Yuh3"
      }
    },
    {
      "cell_type": "markdown",
      "source": [
        "If the goal is more long-term viewer retention, Amazon could invest more in shows, which keep viewers engaged longer."
      ],
      "metadata": {
        "id": "_WtzZ_hCYuh4"
      }
    },
    {
      "cell_type": "markdown",
      "source": [
        "#### Chart - 6"
      ],
      "metadata": {
        "id": "OH-pJp9IphqM"
      }
    },
    {
      "cell_type": "code",
      "source": [
        "# Chart - 6 visualization code\n",
        "plt.figure(figsize=(10, 5))\n",
        "sns.histplot(titles['runtime'], bins=50, kde=True, color='skyblue')\n",
        "plt.title('Distribution of Content Runtime')\n",
        "plt.xlabel('Runtime (minutes)')\n",
        "plt.ylabel('Frequency')\n",
        "plt.show()"
      ],
      "metadata": {
        "id": "kuRf4wtuphqN"
      },
      "execution_count": null,
      "outputs": []
    },
    {
      "cell_type": "markdown",
      "source": [
        "##### 1. Why did you pick the specific chart?"
      ],
      "metadata": {
        "id": "bbFf2-_FphqN"
      }
    },
    {
      "cell_type": "markdown",
      "source": [
        "To Understand the typical length of movies and episodes."
      ],
      "metadata": {
        "id": "loh7H2nzphqN"
      }
    },
    {
      "cell_type": "markdown",
      "source": [
        "##### 2. What is/are the insight(s) found from the chart?"
      ],
      "metadata": {
        "id": "_ouA3fa0phqN"
      }
    },
    {
      "cell_type": "markdown",
      "source": [
        "Most runtimes cluster around 90–120 minutes."
      ],
      "metadata": {
        "id": "VECbqPI7phqN"
      }
    },
    {
      "cell_type": "markdown",
      "source": [
        "##### 3. Will the gained insights help creating a positive business impact?\n",
        "Are there any insights that lead to negative growth? Justify with specific reason."
      ],
      "metadata": {
        "id": "Seke61FWphqN"
      }
    },
    {
      "cell_type": "markdown",
      "source": [
        "IT Helps shape duration-based content recommendations for the specified user."
      ],
      "metadata": {
        "id": "DW4_bGpfphqN"
      }
    },
    {
      "cell_type": "markdown",
      "source": [
        "#### Chart - 7"
      ],
      "metadata": {
        "id": "PIIx-8_IphqN"
      }
    },
    {
      "cell_type": "code",
      "source": [
        "# Chart - 7 visualization code\n",
        "plt.figure(figsize=(10, 5))\n",
        "sns.countplot(data=titles, x='age_certification', order=titles['age_certification'].value_counts().index, palette='Set2')\n",
        "plt.title('Content Distribution by Age Certification')\n",
        "plt.xlabel('Age Rating')\n",
        "plt.ylabel('Number of Titles')\n",
        "plt.show()"
      ],
      "metadata": {
        "id": "lqAIGUfyphqO"
      },
      "execution_count": null,
      "outputs": []
    },
    {
      "cell_type": "markdown",
      "source": [
        "##### 1. Why did you pick the specific chart?"
      ],
      "metadata": {
        "id": "t27r6nlMphqO"
      }
    },
    {
      "cell_type": "markdown",
      "source": [
        "To See content availability by age restriction."
      ],
      "metadata": {
        "id": "iv6ro40sphqO"
      }
    },
    {
      "cell_type": "markdown",
      "source": [
        "##### 2. What is/are the insight(s) found from the chart?"
      ],
      "metadata": {
        "id": "r2jJGEOYphqO"
      }
    },
    {
      "cell_type": "markdown",
      "source": [
        "A large chunk of content is rated for general audiences (like TV-14 or PG-13)."
      ],
      "metadata": {
        "id": "Po6ZPi4hphqO"
      }
    },
    {
      "cell_type": "markdown",
      "source": [
        "##### 3. Will the gained insights help creating a positive business impact?\n",
        "Are there any insights that lead to negative growth? Justify with specific reason."
      ],
      "metadata": {
        "id": "b0JNsNcRphqO"
      }
    },
    {
      "cell_type": "markdown",
      "source": [
        "Helps in age-focused marketing strategies or parental controls."
      ],
      "metadata": {
        "id": "xvSq8iUTphqO"
      }
    },
    {
      "cell_type": "markdown",
      "source": [
        "#### Chart - 8"
      ],
      "metadata": {
        "id": "BZR9WyysphqO"
      }
    },
    {
      "cell_type": "code",
      "source": [
        "# Chart - 8 visualization code\n",
        "top5_genres = titles.explode('genres')['genres'].value_counts().head(5).index\n",
        "top_genres = titles[titles['genres'].apply(lambda x: any(g in x for g in top5_genres))]\n",
        "top_genres = top_genres.explode('genres')\n",
        "top_genres = top_genres[top_genres['genres'].isin(top5_genres)]\n",
        "\n",
        "plt.figure(figsize=(10, 6))\n",
        "sns.violinplot(x='genres', y='imdb_score', data=top_genres, palette='Accent')\n",
        "plt.title('IMDb Score Distribution for Top 5 Genres')\n",
        "plt.xlabel('Genre')\n",
        "plt.ylabel('IMDb Score')\n",
        "plt.show()\n"
      ],
      "metadata": {
        "id": "TdPTWpAVphqO"
      },
      "execution_count": null,
      "outputs": []
    },
    {
      "cell_type": "markdown",
      "source": [
        "##### 1. Why did you pick the specific chart?"
      ],
      "metadata": {
        "id": "jj7wYXLtphqO"
      }
    },
    {
      "cell_type": "markdown",
      "source": [
        "To view IMDB score spread across different genres."
      ],
      "metadata": {
        "id": "Ob8u6rCTphqO"
      }
    },
    {
      "cell_type": "markdown",
      "source": [
        "##### 2. What is/are the insight(s) found from the chart?"
      ],
      "metadata": {
        "id": "eZrbJ2SmphqO"
      }
    },
    {
      "cell_type": "markdown",
      "source": [
        "Some genres like Drama have wider and higher score ranges."
      ],
      "metadata": {
        "id": "mZtgC_hjphqO"
      }
    },
    {
      "cell_type": "markdown",
      "source": [
        "##### 3. Will the gained insights help creating a positive business impact?\n",
        "Are there any insights that lead to negative growth? Justify with specific reason."
      ],
      "metadata": {
        "id": "rFu4xreNphqO"
      }
    },
    {
      "cell_type": "markdown",
      "source": [
        "Genre-based acquisition can be aligned with performance."
      ],
      "metadata": {
        "id": "ey_0qi68phqO"
      }
    },
    {
      "cell_type": "markdown",
      "source": [
        "#### Chart - 9"
      ],
      "metadata": {
        "id": "YJ55k-q6phqO"
      }
    },
    {
      "cell_type": "code",
      "source": [
        "# Chart - 9 visualization code\n",
        "country_counts = titles.explode('production_countries')['production_countries'].value_counts().head(10)\n",
        "\n",
        "plt.figure(figsize=(10, 5))\n",
        "sns.barplot(x=country_counts.values, y=country_counts.index, palette='coolwarm')\n",
        "plt.title('Top 10 Content-Producing Countries')\n",
        "plt.xlabel('Number of Titles')\n",
        "plt.ylabel('Country')\n",
        "plt.show()\n"
      ],
      "metadata": {
        "id": "B2aS4O1ophqO"
      },
      "execution_count": null,
      "outputs": []
    },
    {
      "cell_type": "markdown",
      "source": [
        "##### 1. Why did you pick the specific chart?"
      ],
      "metadata": {
        "id": "gCFgpxoyphqP"
      }
    },
    {
      "cell_type": "markdown",
      "source": [
        "To Understand geographic diversity of content."
      ],
      "metadata": {
        "id": "TVxDimi2phqP"
      }
    },
    {
      "cell_type": "markdown",
      "source": [
        "##### 2. What is/are the insight(s) found from the chart?"
      ],
      "metadata": {
        "id": "OVtJsKN_phqQ"
      }
    },
    {
      "cell_type": "markdown",
      "source": [
        "USA leads, followed by UK and India."
      ],
      "metadata": {
        "id": "ngGi97qjphqQ"
      }
    },
    {
      "cell_type": "markdown",
      "source": [
        "##### 3. Will the gained insights help creating a positive business impact?\n",
        "Are there any insights that lead to negative growth? Justify with specific reason."
      ],
      "metadata": {
        "id": "lssrdh5qphqQ"
      }
    },
    {
      "cell_type": "markdown",
      "source": [
        "Helps localize marketing and acquisition strategy as well as the recommendations."
      ],
      "metadata": {
        "id": "tBpY5ekJphqQ"
      }
    },
    {
      "cell_type": "markdown",
      "source": [
        "#### Chart - 10"
      ],
      "metadata": {
        "id": "U2RJ9gkRphqQ"
      }
    },
    {
      "cell_type": "code",
      "source": [
        "# Chart - 10 visualization code\n",
        "top_directors = credits[credits['role'] == 'DIRECTOR']['name'].value_counts().head(10)\n",
        "\n",
        "plt.figure(figsize=(10, 5))\n",
        "sns.barplot(x=top_directors.values, y=top_directors.index, palette='crest')\n",
        "plt.title('Top 10 Directors by Number of Titles')\n",
        "plt.xlabel('Number of Titles')\n",
        "plt.ylabel('Director')\n",
        "plt.show()\n"
      ],
      "metadata": {
        "id": "GM7a4YP4phqQ"
      },
      "execution_count": null,
      "outputs": []
    },
    {
      "cell_type": "markdown",
      "source": [
        "##### 1. Why did you pick the specific chart?"
      ],
      "metadata": {
        "id": "1M8mcRywphqQ"
      }
    },
    {
      "cell_type": "markdown",
      "source": [
        "Identifies the most active directors on the platform.\n",
        "\n"
      ],
      "metadata": {
        "id": "8agQvks0phqQ"
      }
    },
    {
      "cell_type": "markdown",
      "source": [
        "##### 2. What is/are the insight(s) found from the chart?"
      ],
      "metadata": {
        "id": "tgIPom80phqQ"
      }
    },
    {
      "cell_type": "markdown",
      "source": [
        "Some directors repeatedly contribute content."
      ],
      "metadata": {
        "id": "Qp13pnNzphqQ"
      }
    },
    {
      "cell_type": "markdown",
      "source": [
        "##### 3. Will the gained insights help creating a positive business impact?\n",
        "Are there any insights that lead to negative growth? Justify with specific reason."
      ],
      "metadata": {
        "id": "JMzcOPDDphqR"
      }
    },
    {
      "cell_type": "markdown",
      "source": [
        "Helps with talent management and repeated collaboration strategies."
      ],
      "metadata": {
        "id": "R4Ka1PC2phqR"
      }
    },
    {
      "cell_type": "markdown",
      "source": [
        "#### Chart - 11"
      ],
      "metadata": {
        "id": "x-EpHcCOp1ci"
      }
    },
    {
      "cell_type": "code",
      "source": [
        "# Chart - 11 visualization code\n",
        "rating_cats = pd.cut(titles['imdb_score'], bins=[0, 5, 6.5, 7.5, 10], labels=['Low', 'Average', 'Good', 'Excellent'])\n",
        "\n",
        "plt.figure(figsize=(6,6))\n",
        "rating_cats.value_counts().plot.pie(autopct='%1.1f%%', startangle=90, colors=sns.color_palette('pastel'), wedgeprops={'width':0.4})\n",
        "plt.title('IMDb Rating Categories')\n",
        "plt.ylabel('')\n",
        "plt.show()\n"
      ],
      "metadata": {
        "id": "mAQTIvtqp1cj"
      },
      "execution_count": null,
      "outputs": []
    },
    {
      "cell_type": "markdown",
      "source": [
        "##### 1. Why did you pick the specific chart?"
      ],
      "metadata": {
        "id": "X_VqEhTip1ck"
      }
    },
    {
      "cell_type": "markdown",
      "source": [
        "To Segment Content by rating quality."
      ],
      "metadata": {
        "id": "-vsMzt_np1ck"
      }
    },
    {
      "cell_type": "markdown",
      "source": [
        "##### 2. What is/are the insight(s) found from the chart?"
      ],
      "metadata": {
        "id": "8zGJKyg5p1ck"
      }
    },
    {
      "cell_type": "markdown",
      "source": [
        "Most content falls between Average and Good."
      ],
      "metadata": {
        "id": "ZYdMsrqVp1ck"
      }
    },
    {
      "cell_type": "markdown",
      "source": [
        "##### 3. Will the gained insights help creating a positive business impact?\n",
        "Are there any insights that lead to negative growth? Justify with specific reason."
      ],
      "metadata": {
        "id": "PVzmfK_Ep1ck"
      }
    },
    {
      "cell_type": "markdown",
      "source": [
        "Identifies content quality gaps for investment."
      ],
      "metadata": {
        "id": "druuKYZpp1ck"
      }
    },
    {
      "cell_type": "markdown",
      "source": [
        "#### Chart - 12"
      ],
      "metadata": {
        "id": "n3dbpmDWp1ck"
      }
    },
    {
      "cell_type": "code",
      "source": [
        "# Chart - 12 visualization code\n",
        "plt.figure(figsize=(10, 6))\n",
        "sns.swarmplot(data=titles, x='type', y='runtime', hue='imdb_score', palette='viridis')\n",
        "plt.title('Runtime vs IMDb Score by Type')\n",
        "plt.xlabel('Content Type')\n",
        "plt.ylabel('Runtime (min)')\n",
        "plt.legend(title='IMDb Score', bbox_to_anchor=(1.05, 1), loc='upper left')\n",
        "plt.show()\n"
      ],
      "metadata": {
        "id": "bwevp1tKp1ck"
      },
      "execution_count": null,
      "outputs": []
    },
    {
      "cell_type": "markdown",
      "source": [
        "##### 1. Why did you pick the specific chart?"
      ],
      "metadata": {
        "id": "ylSl6qgtp1ck"
      }
    },
    {
      "cell_type": "markdown",
      "source": [
        "Answer Here."
      ],
      "metadata": {
        "id": "m2xqNkiQp1ck"
      }
    },
    {
      "cell_type": "markdown",
      "source": [
        "##### 2. What is/are the insight(s) found from the chart?"
      ],
      "metadata": {
        "id": "ZWILFDl5p1ck"
      }
    },
    {
      "cell_type": "markdown",
      "source": [
        "Answer Here"
      ],
      "metadata": {
        "id": "x-lUsV2mp1ck"
      }
    },
    {
      "cell_type": "markdown",
      "source": [
        "##### 3. Will the gained insights help creating a positive business impact?\n",
        "Are there any insights that lead to negative growth? Justify with specific reason."
      ],
      "metadata": {
        "id": "M7G43BXep1ck"
      }
    },
    {
      "cell_type": "markdown",
      "source": [
        "Answer Here"
      ],
      "metadata": {
        "id": "5wwDJXsLp1cl"
      }
    },
    {
      "cell_type": "markdown",
      "source": [
        "#### Chart - 13"
      ],
      "metadata": {
        "id": "Ag9LCva-p1cl"
      }
    },
    {
      "cell_type": "code",
      "source": [
        "# Chart - 13 visualization code"
      ],
      "metadata": {
        "id": "EUfxeq9-p1cl"
      },
      "execution_count": null,
      "outputs": []
    },
    {
      "cell_type": "markdown",
      "source": [
        "##### 1. Why did you pick the specific chart?"
      ],
      "metadata": {
        "id": "E6MkPsBcp1cl"
      }
    },
    {
      "cell_type": "markdown",
      "source": [
        "Answer Here."
      ],
      "metadata": {
        "id": "V22bRsFWp1cl"
      }
    },
    {
      "cell_type": "markdown",
      "source": [
        "##### 2. What is/are the insight(s) found from the chart?"
      ],
      "metadata": {
        "id": "2cELzS2fp1cl"
      }
    },
    {
      "cell_type": "markdown",
      "source": [
        "Answer Here"
      ],
      "metadata": {
        "id": "ozQPc2_Ip1cl"
      }
    },
    {
      "cell_type": "markdown",
      "source": [
        "##### 3. Will the gained insights help creating a positive business impact?\n",
        "Are there any insights that lead to negative growth? Justify with specific reason."
      ],
      "metadata": {
        "id": "3MPXvC8up1cl"
      }
    },
    {
      "cell_type": "markdown",
      "source": [
        "Answer Here"
      ],
      "metadata": {
        "id": "GL8l1tdLp1cl"
      }
    },
    {
      "cell_type": "markdown",
      "source": [
        "#### Chart - 14 - Correlation Heatmap"
      ],
      "metadata": {
        "id": "NC_X3p0fY2L0"
      }
    },
    {
      "cell_type": "code",
      "source": [
        "# Correlation Heatmap visualization code\n",
        "plt.figure(figsize=(10, 6))\n",
        "numeric_cols = ['release_year', 'runtime', 'seasons', 'imdb_score', 'imdb_votes', 'tmdb_popularity', 'tmdb_score']\n",
        "correlation = titles[numeric_cols].corr()\n",
        "\n",
        "sns.heatmap(correlation, annot=True, cmap='coolwarm', linewidths=0.5)\n",
        "plt.title('Correlation Heatmap of Numerical Features')\n",
        "plt.show()\n"
      ],
      "metadata": {
        "id": "xyC9zolEZNRQ"
      },
      "execution_count": null,
      "outputs": []
    },
    {
      "cell_type": "markdown",
      "source": [
        "##### 1. Why did you pick the specific chart?"
      ],
      "metadata": {
        "id": "UV0SzAkaZNRQ"
      }
    },
    {
      "cell_type": "markdown",
      "source": [
        "A heatmap is ideal for visualizing correlation among numerical variables. It quickly shows how strongly variables are related to each other (positively or negatively)."
      ],
      "metadata": {
        "id": "DVPuT8LYZNRQ"
      }
    },
    {
      "cell_type": "markdown",
      "source": [
        "##### 2. What is/are the insight(s) found from the chart?"
      ],
      "metadata": {
        "id": "YPEH6qLeZNRQ"
      }
    },
    {
      "cell_type": "markdown",
      "source": [
        "imdb_score has a moderate positive correlation with tmdb_score (~0.49), showing consistency in audience perception across platforms.\n",
        "\n",
        "imdb_votes has low correlation with scores but high variance — indicating some popular shows may not necessarily be highly rated.\n",
        "\n",
        "seasons has little to no correlation with other variables, suggesting that the number of seasons doesn’t directly affect ratings or popularity."
      ],
      "metadata": {
        "id": "bfSqtnDqZNRR"
      }
    },
    {
      "cell_type": "markdown",
      "source": [
        "#### Chart - 15 - Pair Plot"
      ],
      "metadata": {
        "id": "q29F0dvdveiT"
      }
    },
    {
      "cell_type": "code",
      "source": [
        "# Pair Plot visualization code\n",
        "sns.pairplot(titles[numeric_cols], corner=True, diag_kind='kde')\n",
        "plt.suptitle('Pairplot of Amazon Prime Title Attributes', y=1.02)\n",
        "plt.show()\n"
      ],
      "metadata": {
        "id": "o58-TEIhveiU"
      },
      "execution_count": null,
      "outputs": []
    },
    {
      "cell_type": "markdown",
      "source": [
        "##### 1. Why did you pick the specific chart?"
      ],
      "metadata": {
        "id": "EXh0U9oCveiU"
      }
    },
    {
      "cell_type": "markdown",
      "source": [
        "A pairplot offers an in-depth look at relationships and distributions across multiple features. It combines scatter plots, histograms, and KDE curves into one."
      ],
      "metadata": {
        "id": "eMmPjTByveiU"
      }
    },
    {
      "cell_type": "markdown",
      "source": [
        "##### 2. What is/are the insight(s) found from the chart?"
      ],
      "metadata": {
        "id": "22aHeOlLveiV"
      }
    },
    {
      "cell_type": "markdown",
      "source": [
        "Most variables (e.g., tmdb_score, imdb_score, runtime) are normally distributed or slightly right-skewed.\n",
        "\n",
        "Popularity (tmdb_popularity) has an extremely skewed distribution with clear outliers.\n",
        "\n",
        "imdb_votes and runtime show no visible correlation, reinforcing the diversity of content formats."
      ],
      "metadata": {
        "id": "uPQ8RGwHveiV"
      }
    },
    {
      "cell_type": "markdown",
      "source": [
        "## **5. Solution to Business Objective**"
      ],
      "metadata": {
        "id": "JcMwzZxoAimU"
      }
    },
    {
      "cell_type": "markdown",
      "source": [
        "#### What do you suggest the client to achieve Business Objective ?\n",
        "Explain Briefly."
      ],
      "metadata": {
        "id": "8G2x9gOozGDZ"
      }
    },
    {
      "cell_type": "markdown",
      "source": [
        "📌 Strategic Recommendations to Achieve Business Objectives\n",
        "1. 🎯 Focus on High-Performing Genres\n",
        "Insight: Drama, Comedy, and Action dominate the content library and also show higher average IMDb scores.\n",
        "Recommendation: Prioritize investment in top-performing genres that resonate with users. Launch targeted genre-based campaigns and explore sub-genres within these to diversify without risk.\n",
        "\n",
        "2. 📈 Leverage Temporal Trends\n",
        "Insight: Content release has sharply increased post-2015, with user engagement peaking around 2019–2020.\n",
        "Recommendation: Use release timing data to model ideal release windows for new content. Align promotions around historical high-engagement months or seasons.\n",
        "\n",
        "3. 🌍 Expand Localized Content Production\n",
        "Insight: The USA, UK, and India are top content contributors. Indian content especially has been growing steadily.\n",
        "Recommendation: Strengthen regional content acquisition, particularly in emerging markets like India and Latin America. Offer dubbing/subtitles in regional languages to increase reach.\n",
        "\n",
        "4. ⭐ Capitalize on High IMDb/Popularity Titles\n",
        "Insight: Some titles with modest scores are highly popular, and vice versa.\n",
        "Recommendation: Create two-tier promotion strategies – highlight critically acclaimed content for quality seekers and popular viral hits for broader reach. Use viewer behavior to push recommendations.\n",
        "\n",
        "5. 👪 Segment Content by Age Certification\n",
        "Insight: A large number of titles are suitable for general audiences, but content is not clearly segmented.\n",
        "Recommendation: Create clear content hubs by age certification – like “Family Friendly,” “Teen Thrills,” “Mature Originals” – to improve discoverability and retention across demographics.\n",
        "\n",
        "6. 📊 Use Data-Driven Talent Collaboration\n",
        "Insight: A small number of directors and actors contribute to a significant chunk of the content.\n",
        "Recommendation: Strengthen partnerships with proven creators for new productions, and use viewer rating data to identify high-impact talent for future projects.\n",
        "\n",
        "By aligning these strategies with data-backed decisions, the client can effectively boost content relevance, customer satisfaction, and ROI, all while maintaining a competitive edge in the dynamic streaming industry.\n",
        "\n"
      ],
      "metadata": {
        "id": "pASKb0qOza21"
      }
    },
    {
      "cell_type": "code",
      "source": [],
      "metadata": {
        "id": "sJ5YaKX5lIm_"
      },
      "execution_count": null,
      "outputs": []
    },
    {
      "cell_type": "markdown",
      "source": [
        "# **Conclusion**"
      ],
      "metadata": {
        "id": "gCX9965dhzqZ"
      }
    },
    {
      "cell_type": "markdown",
      "source": [
        "## ✅ Conclusion\n",
        "\n",
        "This project provided a comprehensive analysis of Amazon Prime Video's content library using a dataset of over 9,000 titles and 124,000 cast/crew records. Through rigorous data wrangling, exploratory analysis, and visualizations, we uncovered valuable insights into content diversity, production trends, audience preferences, and engagement metrics.\n",
        "\n",
        "Key findings show that Amazon Prime predominantly hosts movie content, with **Drama**, **Comedy**, and **Action** being the most frequent and high-performing genres. The content library has significantly expanded post-2015, aligning with global streaming trends. While IMDb and TMDB ratings generally hover around average scores, a few standout titles display exceptionally high popularity. The USA remains the dominant content producer, though countries like the UK and India also play a significant role.\n",
        "\n",
        "Our analysis also highlighted that certain directors and actors repeatedly contribute to the platform, suggesting potential for focused partnerships. We identified key opportunities in **content segmentation**, **regional expansion**, **genre prioritization**, and **rating-based marketing strategies**.\n",
        "\n",
        "Overall, the dataset is now fully cleaned and analysis-ready, providing a strong foundation for deeper business intelligence, viewer behavior modeling, and data-driven decision-making. These insights can guide Amazon Prime Video in enhancing content strategy, increasing subscriber satisfaction, and driving long-term business growth in a competitive streaming landscape.\n"
      ],
      "metadata": {
        "id": "Fjb1IsQkh3yE"
      }
    },
    {
      "cell_type": "markdown",
      "source": [
        "### ***Hurrah! You have successfully completed your EDA Capstone Project !!!***"
      ],
      "metadata": {
        "id": "gIfDvo9L0UH2"
      }
    }
  ]
}